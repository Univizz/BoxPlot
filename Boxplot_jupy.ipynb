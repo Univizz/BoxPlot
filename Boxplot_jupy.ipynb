{
 "cells": [
  {
   "cell_type": "code",
   "execution_count": 46,
   "id": "190024e4",
   "metadata": {},
   "outputs": [],
   "source": [
    "import pandas as pd\n",
    "import os\n",
    "import numpy as np\n",
    "import matplotlib.pyplot as plt"
   ]
  },
  {
   "cell_type": "code",
   "execution_count": 47,
   "id": "ccff68bb",
   "metadata": {},
   "outputs": [],
   "source": [
    "pwd = os.getcwd()    # This will tell exactly the path"
   ]
  },
  {
   "cell_type": "code",
   "execution_count": 48,
   "id": "561b96f2",
   "metadata": {},
   "outputs": [],
   "source": [
    "dataset = pd.read_excel(pwd + \"/boxplotdata.xlsx\")"
   ]
  },
  {
   "cell_type": "code",
   "execution_count": 49,
   "id": "35284e95",
   "metadata": {},
   "outputs": [
    {
     "name": "stdout",
     "output_type": "stream",
     "text": [
      "     25    1  Unnamed: 2    5     9\n",
      "0  14.0  2.0         NaN  6.0   6.0\n",
      "1   6.0  5.0         5.0  4.0  54.0\n",
      "2   7.0  8.0         2.0  1.0   4.0\n",
      "3  41.0  4.0         2.0  2.0   1.0\n",
      "4   2.0  6.0         3.0  5.0   2.0\n"
     ]
    }
   ],
   "source": [
    "print(dataset.head())"
   ]
  },
  {
   "cell_type": "code",
   "execution_count": 50,
   "id": "b623a8e1",
   "metadata": {},
   "outputs": [
    {
     "name": "stdout",
     "output_type": "stream",
     "text": [
      "0     14.0\n",
      "1      6.0\n",
      "2      7.0\n",
      "3     41.0\n",
      "4      2.0\n",
      "5      5.0\n",
      "6      8.0\n",
      "7      6.0\n",
      "8     41.0\n",
      "9     23.0\n",
      "10    65.0\n",
      "11    41.0\n",
      "12     2.0\n",
      "13    47.0\n",
      "14    52.0\n",
      "Name: 25, dtype: float64\n"
     ]
    }
   ],
   "source": [
    "col1 = dataset.iloc[:15,0]\n",
    "print(col1)"
   ]
  },
  {
   "cell_type": "code",
   "execution_count": 51,
   "id": "41338e23",
   "metadata": {},
   "outputs": [
    {
     "data": {
      "text/plain": [
       "{'whiskers': [<matplotlib.lines.Line2D at 0x7fe091389370>,\n",
       "  <matplotlib.lines.Line2D at 0x7fe091389640>],\n",
       " 'caps': [<matplotlib.lines.Line2D at 0x7fe091389910>,\n",
       "  <matplotlib.lines.Line2D at 0x7fe091389be0>],\n",
       " 'boxes': [<matplotlib.lines.Line2D at 0x7fe0913890a0>],\n",
       " 'medians': [<matplotlib.lines.Line2D at 0x7fe091389eb0>],\n",
       " 'fliers': [<matplotlib.lines.Line2D at 0x7fe0913901c0>],\n",
       " 'means': []}"
      ]
     },
     "execution_count": 51,
     "metadata": {},
     "output_type": "execute_result"
    },
    {
     "data": {
      "image/png": "[encoded data removed]",
      "text/plain": [
       "<Figure size 432x288 with 1 Axes>"
      ]
     },
     "metadata": {
      "needs_background": "light"
     },
     "output_type": "display_data"
    }
   ],
   "source": [
    "plt.boxplot(col1)"
   ]
  },
  {
   "cell_type": "code",
   "execution_count": 52,
   "id": "8260b7b9",
   "metadata": {},
   "outputs": [
    {
     "data": {
      "image/png": "[encoded data removed]",
      "text/plain": [
       "<Figure size 432x288 with 1 Axes>"
      ]
     },
     "metadata": {
      "needs_background": "light"
     },
     "output_type": "display_data"
    }
   ],
   "source": [
    "bp = plt.boxplot(col1, vert = 1, patch_artist = True) \n",
    "plt.title('Rectangular box plot for seema')\n",
    "plt.xlabel('x')\n",
    "plt.ylabel('Random Values')\n",
    "colors = ['yellow']\n",
    "for patch, color in zip(bp['boxes'], colors): patch.set_facecolor(color)\n",
    "    # changing color and linewidth of caps \n",
    "for cap in bp['caps']: cap.set(color ='#8B008B', linewidth = 2) \n",
    "\n",
    "# changing color and linewidth of medians \n",
    "for median in bp['medians']: median.set(color ='red', linewidth = 3)"
   ]
  },
  {
   "cell_type": "code",
   "execution_count": 53,
   "id": "35d5de50",
   "metadata": {},
   "outputs": [
    {
     "name": "stdout",
     "output_type": "stream",
     "text": [
      "0      2.0\n",
      "1      5.0\n",
      "2      8.0\n",
      "3      4.0\n",
      "4      6.0\n",
      "5      5.0\n",
      "6      7.0\n",
      "7      4.0\n",
      "8      1.0\n",
      "9      2.0\n",
      "10     3.0\n",
      "11    65.0\n",
      "12     4.0\n",
      "13     1.0\n",
      "14     2.0\n",
      "15     3.0\n",
      "16     3.0\n",
      "17    12.0\n",
      "18    41.0\n",
      "Name: 1, dtype: float64\n"
     ]
    }
   ],
   "source": [
    "col2 = dataset.iloc[:19,1]\n",
    "print(col2)"
   ]
  },
  {
   "cell_type": "code",
   "execution_count": 54,
   "id": "d07d2911",
   "metadata": {},
   "outputs": [
    {
     "data": {
      "text/plain": [
       "{'whiskers': [<matplotlib.lines.Line2D at 0x7fe0913eaf40>,\n",
       "  <matplotlib.lines.Line2D at 0x7fe0913da250>],\n",
       " 'caps': [<matplotlib.lines.Line2D at 0x7fe0913da520>,\n",
       "  <matplotlib.lines.Line2D at 0x7fe0913da7f0>],\n",
       " 'boxes': [<matplotlib.lines.Line2D at 0x7fe0913eac70>],\n",
       " 'medians': [<matplotlib.lines.Line2D at 0x7fe0913daac0>],\n",
       " 'fliers': [<matplotlib.lines.Line2D at 0x7fe0913dad90>],\n",
       " 'means': []}"
      ]
     },
     "execution_count": 54,
     "metadata": {},
     "output_type": "execute_result"
    },
    {
     "data": {
      "image/png": "[encoded data removed]",
      "text/plain": [
       "<Figure size 432x288 with 1 Axes>"
      ]
     },
     "metadata": {
      "needs_background": "light"
     },
     "output_type": "display_data"
    }
   ],
   "source": [
    "plt.boxplot(col2)"
   ]
  },
  {
   "cell_type": "code",
   "execution_count": 55,
   "id": "a010728f",
   "metadata": {},
   "outputs": [
    {
     "name": "stdout",
     "output_type": "stream",
     "text": [
      "1      5.0\n",
      "2      2.0\n",
      "3      2.0\n",
      "4      3.0\n",
      "5      1.0\n",
      "6     47.0\n",
      "7      6.0\n",
      "8      5.0\n",
      "9     23.0\n",
      "10     2.0\n",
      "11     1.0\n",
      "12    36.0\n",
      "13     3.0\n",
      "14     6.0\n",
      "15     5.0\n",
      "16    41.0\n",
      "17     3.0\n",
      "18     3.0\n",
      "19     6.0\n",
      "20     8.0\n",
      "21     4.0\n",
      "22     4.0\n",
      "23    56.0\n",
      "Name: Unnamed: 2, dtype: float64\n"
     ]
    }
   ],
   "source": [
    "col3 = dataset.iloc[1:,2]\n",
    "print(col3)"
   ]
  },
  {
   "cell_type": "code",
   "execution_count": 56,
   "id": "d151ae72",
   "metadata": {},
   "outputs": [
    {
     "data": {
      "text/plain": [
       "{'whiskers': [<matplotlib.lines.Line2D at 0x7fe09100a910>,\n",
       "  <matplotlib.lines.Line2D at 0x7fe09100abe0>],\n",
       " 'caps': [<matplotlib.lines.Line2D at 0x7fe09100aeb0>,\n",
       "  <matplotlib.lines.Line2D at 0x7fe0912371f0>],\n",
       " 'boxes': [<matplotlib.lines.Line2D at 0x7fe09100a640>],\n",
       " 'medians': [<matplotlib.lines.Line2D at 0x7fe0912374c0>],\n",
       " 'fliers': [<matplotlib.lines.Line2D at 0x7fe091237790>],\n",
       " 'means': []}"
      ]
     },
     "execution_count": 56,
     "metadata": {},
     "output_type": "execute_result"
    },
    {
     "data": {
      "image/png": "[encoded data removed]",
      "text/plain": [
       "<Figure size 432x288 with 1 Axes>"
      ]
     },
     "metadata": {
      "needs_background": "light"
     },
     "output_type": "display_data"
    }
   ],
   "source": [
    "plt.boxplot(col3)"
   ]
  },
  {
   "cell_type": "code",
   "execution_count": 57,
   "id": "e30abfa8",
   "metadata": {},
   "outputs": [],
   "source": [
    "labels = ['Col1', 'Col2', 'Col3']"
   ]
  },
  {
   "cell_type": "code",
   "execution_count": 58,
   "id": "52386a26",
   "metadata": {},
   "outputs": [],
   "source": [
    "Plotting_Data = [col1, col2, col3]"
   ]
  },
  {
   "cell_type": "code",
   "execution_count": 59,
   "id": "8637dd37",
   "metadata": {},
   "outputs": [
    {
     "data": {
      "text/plain": [
       "{'whiskers': [<matplotlib.lines.Line2D at 0x7fe091210250>,\n",
       "  <matplotlib.lines.Line2D at 0x7fe091210520>,\n",
       "  <matplotlib.lines.Line2D at 0x7fe091220640>,\n",
       "  <matplotlib.lines.Line2D at 0x7fe091220910>,\n",
       "  <matplotlib.lines.Line2D at 0x7fe09122da30>,\n",
       "  <matplotlib.lines.Line2D at 0x7fe09122dd00>],\n",
       " 'caps': [<matplotlib.lines.Line2D at 0x7fe0912107f0>,\n",
       "  <matplotlib.lines.Line2D at 0x7fe091210ac0>,\n",
       "  <matplotlib.lines.Line2D at 0x7fe091220be0>,\n",
       "  <matplotlib.lines.Line2D at 0x7fe091220eb0>,\n",
       "  <matplotlib.lines.Line2D at 0x7fe09122dfd0>,\n",
       "  <matplotlib.lines.Line2D at 0x7fe0911b92e0>],\n",
       " 'boxes': [<matplotlib.lines.Line2D at 0x7fe091210070>,\n",
       "  <matplotlib.lines.Line2D at 0x7fe091220370>,\n",
       "  <matplotlib.lines.Line2D at 0x7fe09122d760>],\n",
       " 'medians': [<matplotlib.lines.Line2D at 0x7fe091210d90>,\n",
       "  <matplotlib.lines.Line2D at 0x7fe09122d1c0>,\n",
       "  <matplotlib.lines.Line2D at 0x7fe0911b95b0>],\n",
       " 'fliers': [<matplotlib.lines.Line2D at 0x7fe0912200a0>,\n",
       "  <matplotlib.lines.Line2D at 0x7fe09122d490>,\n",
       "  <matplotlib.lines.Line2D at 0x7fe0911b9880>],\n",
       " 'means': []}"
      ]
     },
     "execution_count": 59,
     "metadata": {},
     "output_type": "execute_result"
    },
    {
     "data": {
      "image/png": "[encoded data removed]",
      "text/plain": [
       "<Figure size 432x288 with 1 Axes>"
      ]
     },
     "metadata": {
      "needs_background": "light"
     },
     "output_type": "display_data"
    }
   ],
   "source": [
    "plt.boxplot(Plotting_Data)"
   ]
  },
  {
   "cell_type": "code",
   "execution_count": 67,
   "id": "b9e92195",
   "metadata": {},
   "outputs": [
    {
     "data": {
      "image/png": "[encoded data removed]",
      "text/plain": [
       "<Figure size 432x288 with 1 Axes>"
      ]
     },
     "metadata": {
      "needs_background": "light"
     },
     "output_type": "display_data"
    }
   ],
   "source": [
    "red_circle = dict(markerfacecolor='blue', marker='o')\n",
    "bp = plt.boxplot(Plotting_Data, vert = 1, patch_artist = True, labels=labels, flierprops=red_circle) \n",
    "plt.title('Rectangular box plots for seema calling xlsx file')\n",
    "plt.xlabel('Selected 3 columns data')\n",
    "plt.ylabel('Random Values')\n",
    "colors = ['yellow', 'red', 'lightgreen']\n",
    "for patch, color in zip(bp['boxes'], colors): patch.set_facecolor(color)\n",
    "    # changing color and linewidth of caps \n",
    "for cap in bp['caps']: cap.set(color ='#8B008B', linewidth = 2) \n",
    "\n",
    "# changing color and linewidth of medians \n",
    "for median in bp['medians']: median.set(color ='red', linewidth = 3)\n",
    "    \n",
    "# HATCH STYLE\n",
    "for box in bp['boxes']:\n",
    "    box.set(hatch = '+')"
   ]
  },
  {
   "cell_type": "code",
   "execution_count": 80,
   "id": "f87d1372",
   "metadata": {},
   "outputs": [
    {
     "data": {
      "image/png": "[encoded data removed]",
      "text/plain": [
       "<Figure size 432x288 with 1 Axes>"
      ]
     },
     "metadata": {
      "needs_background": "light"
     },
     "output_type": "display_data"
    }
   ],
   "source": [
    "#Adding Props\n",
    "red_circle = dict(markerfacecolor='g', marker='o')\n",
    "mean_shape = dict(markerfacecolor='orange', marker='H', markeredgecolor='green')\n",
    "\n",
    "bp = plt.boxplot(Plotting_Data, vert = 1, patch_artist = True, labels=labels, flierprops=red_circle, showmeans=True, meanprops=mean_shape) \n",
    "plt.title('Rectangular box plots for seema calling xlsx file')\n",
    "plt.xlabel('Selected 3 columns data')\n",
    "plt.ylabel('Random Values')\n",
    "colors = ['wheat', 'palegreen', 'aqua']\n",
    "for patch, color in zip(bp['boxes'], colors): patch.set_facecolor(color)\n",
    "    # changing color and linewidth of caps \n",
    "for cap in bp['caps']: cap.set(color ='orange', linewidth = 2) \n",
    "\n",
    "# changing color and linewidth of medians \n",
    "for median in bp['medians']: median.set(color ='#9467bd', linewidth = 3)"
   ]
  },
  {
   "cell_type": "code",
   "execution_count": 84,
   "id": "6fa33fc1",
   "metadata": {},
   "outputs": [
    {
     "data": {
      "image/png": "[encoded data removed]",
      "text/plain": [
       "<Figure size 432x288 with 1 Axes>"
      ]
     },
     "metadata": {
      "needs_background": "light"
     },
     "output_type": "display_data"
    }
   ],
   "source": [
    "#Here you will notice rotated X ticks\n",
    "#USE:-> plt.xticks(rotation=45)\n",
    "\n",
    "#Adding Props\n",
    "red_circle = dict(markerfacecolor='g', marker='o')\n",
    "mean_shape = dict(markerfacecolor='orange', marker='H', markeredgecolor='green')\n",
    "\n",
    "bp = plt.boxplot(Plotting_Data, vert = 1, patch_artist = True, labels=labels, flierprops=red_circle, showmeans=True, meanprops=mean_shape) \n",
    "plt.title('Rectangular box plots for seema calling xlsx file')\n",
    "plt.xticks(rotation=45)\n",
    "plt.xlabel('Selected 3 columns data')\n",
    "plt.ylabel('Random Values')\n",
    "colors = ['wheat', 'palegreen', 'aqua']\n",
    "for patch, color in zip(bp['boxes'], colors): patch.set_facecolor(color)\n",
    "    # changing color and linewidth of caps \n",
    "for cap in bp['caps']: cap.set(color ='orange', linewidth = 2) \n",
    "\n",
    "# changing color and linewidth of medians \n",
    "for median in bp['medians']: median.set(color ='#9467bd', linewidth = 3)\n",
    "    \n",
    "resolution_value = 100\n",
    "plt.savefig(\"box.png\", format=\"png\", dpi=resolution_value)"
   ]
  },
  {
   "cell_type": "code",
   "execution_count": 85,
   "id": "ade92c26",
   "metadata": {},
   "outputs": [],
   "source": [
    "#We can place legend too. In that case we need call data in individual boxe\n"
   ]
  },
  {
   "cell_type": "code",
   "execution_count": null,
   "id": "445350da",
   "metadata": {},
   "outputs": [],
   "source": []
  }
 ],
 "metadata": {
  "kernelspec": {
   "display_name": "Python 3 (ipykernel)",
   "language": "python",
   "name": "python3"
  },
  "language_info": {
   "codemirror_mode": {
    "name": "ipython",
    "version": 3
   },
   "file_extension": ".py",
   "mimetype": "text/x-python",
   "name": "python",
   "nbconvert_exporter": "python",
   "pygments_lexer": "ipython3",
   "version": "3.9.12"
  }
 },
 "nbformat": 4,
 "nbformat_minor": 5
}
